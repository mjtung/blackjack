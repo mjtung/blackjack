{
 "cells": [
  {
   "cell_type": "code",
   "execution_count": 136,
   "metadata": {
    "collapsed": false
   },
   "outputs": [],
   "source": [
    "from Blackjack import BlackjackGame\n",
    "import numpy as np\n",
    "\n",
    "b = BlackjackGame()\n",
    "results = b.simulate(50000)"
   ]
  },
  {
   "cell_type": "code",
   "execution_count": 137,
   "metadata": {
    "collapsed": false
   },
   "outputs": [
    {
     "name": "stdout",
     "output_type": "stream",
     "text": [
      "Bust rate: 0.2813\n",
      "Bust rate if first card is 2: 0.3428943937418514\n",
      "Bust rate if first card is 3: 0.3708535221766679\n",
      "Bust rate if first card is 4: 0.3997039230199852\n",
      "Bust rate if first card is 5: 0.41016436803325146\n",
      "Bust rate if first card is 6: 0.42880825198010686\n",
      "Bust rate if first card is 7: 0.2600036879955744\n"
     ]
    }
   ],
   "source": [
    "print(\"Bust rate: {}\".format(np.mean([x['res'] for x in results])))\n",
    "print(\"Bust rate if first card is 2: {}\".format(np.mean([x['res'] for x in results if x['hand'][0]==2])))\n",
    "print(\"Bust rate if first card is 3: {}\".format(np.mean([x['res'] for x in results if x['hand'][0]==3])))\n",
    "print(\"Bust rate if first card is 4: {}\".format(np.mean([x['res'] for x in results if x['hand'][0]==4])))\n",
    "print(\"Bust rate if first card is 5: {}\".format(np.mean([x['res'] for x in results if x['hand'][0]==5])))\n",
    "print(\"Bust rate if first card is 6: {}\".format(np.mean([x['res'] for x in results if x['hand'][0]==6])))\n",
    "print(\"Bust rate if first card is 7: {}\".format(np.mean([x['res'] for x in results if x['hand'][0]==7])))"
   ]
  },
  {
   "cell_type": "code",
   "execution_count": 138,
   "metadata": {
    "collapsed": false
   },
   "outputs": [
    {
     "name": "stdout",
     "output_type": "stream",
     "text": [
      "Bust rates based on first card: \n",
      "1     0.112599\n",
      "2     0.342894\n",
      "3     0.370854\n",
      "4     0.399704\n",
      "5     0.410164\n",
      "6     0.428808\n",
      "7     0.260004\n",
      "8     0.241689\n",
      "9     0.227021\n",
      "10    0.213203\n",
      "11    0.215279\n",
      "12    0.216006\n",
      "13    0.222099\n",
      "dtype: float64\n",
      "Score for non-busted hands based on first card: \n",
      "1     19.474065\n",
      "2     18.921202\n",
      "3     18.944313\n",
      "4     18.935882\n",
      "5     18.936899\n",
      "6     18.727185\n",
      "7     18.113631\n",
      "8     18.456286\n",
      "9     18.831901\n",
      "10    19.314219\n",
      "11    19.335775\n",
      "12    19.289698\n",
      "13    19.275772\n",
      "dtype: float64\n"
     ]
    }
   ],
   "source": [
    "import pandas as pd\n",
    "\n",
    "# s = pd.Series([1,2,3,10,20,30],[1,2,3,1,2,3])\n",
    "#grouped = s.groupby(level=0)\n",
    "\n",
    "bust = pd.Series([x['res'] for x in results],[x['hand'][0] for x in results])\n",
    "grouped = bust.groupby(bust.index)\n",
    "[np.mean(y) for y in [x[1].values for x in grouped]]\n",
    "bustRates = grouped.mean()\n",
    "print(\"Bust rates based on first card: \\n{}\".format(grouped.mean()))\n",
    "\n",
    "def getCardScore (x): return [min(y,10) for y in x]\n",
    "def getScore (x): return sum(getCardScore(x))+10 if (sum(getCardScore(x))+10)<=21 else sum(getCardScore(x))\n",
    "\n",
    "score = pd.Series([getScore(x['hand']) for x in results if x['res']==0],[x['hand'][0] for x in results if x['res']==0])\n",
    "groupedScore = score.groupby(score.index)\n",
    "print(\"Score for non-busted hands based on first card: \\n{}\".format(groupedScore.mean()))"
   ]
  },
  {
   "cell_type": "code",
   "execution_count": 142,
   "metadata": {
    "collapsed": false
   },
   "outputs": [
    {
     "name": "stdout",
     "output_type": "stream",
     "text": [
      "Starting card x resulting score\n",
      "          17        18        19        20        21      Bust\n",
      "1   0.154371  0.151271  0.150031  0.154577  0.389750  0.112599\n",
      "2   0.220522  0.203798  0.188209  0.208900  0.178571  0.342894\n",
      "3   0.209123  0.202014  0.208235  0.196682  0.183945  0.370854\n",
      "4   0.216708  0.201603  0.204377  0.183724  0.193588  0.399704\n",
      "5   0.214926  0.211723  0.186419  0.195388  0.191544  0.410164\n",
      "6   0.296678  0.191874  0.168655  0.173170  0.169623  0.428808\n",
      "7   0.495141  0.198355  0.104161  0.102417  0.099925  0.260004\n",
      "8   0.174351  0.467120  0.180650  0.083648  0.094230  0.241689\n",
      "9   0.155922  0.149236  0.474212  0.148281  0.072350  0.227021\n",
      "10  0.137955  0.137485  0.140306  0.440893  0.143361  0.213203\n",
      "11  0.137524  0.131616  0.137287  0.444707  0.148866  0.215279\n",
      "12  0.141304  0.143195  0.139178  0.437146  0.139178  0.216006\n",
      "13  0.144893  0.147268  0.137055  0.428741  0.142043  0.222099\n"
     ]
    }
   ],
   "source": [
    "[(x[0] ,np.bincount(x[1]) [-5:]/sum(np.bincount(x[1]))) for x in groupedScore]\n",
    "\n",
    "tmp = np.mat([np.bincount(x[1]) [-5:]/sum(np.bincount(x[1])) for x in groupedScore])\n",
    "df = pd.DataFrame(tmp)\n",
    "df.columns = ['17','18','19','20','21']\n",
    "df.index = [x+1 for x in range(df.index.size)]\n",
    "df['Bust'] = bustRates\n",
    "print(\"Starting card x resulting score\\n{}\".format(df))"
   ]
  },
  {
   "cell_type": "code",
   "execution_count": 153,
   "metadata": {
    "collapsed": false
   },
   "outputs": [
    {
     "data": {
      "text/html": [
       "<div>\n",
       "<table border=\"1\" class=\"dataframe\">\n",
       "  <thead>\n",
       "    <tr style=\"text-align: right;\">\n",
       "      <th></th>\n",
       "      <th>17</th>\n",
       "      <th>18</th>\n",
       "      <th>19</th>\n",
       "      <th>20</th>\n",
       "      <th>21</th>\n",
       "      <th>Bust</th>\n",
       "    </tr>\n",
       "  </thead>\n",
       "  <tbody>\n",
       "    <tr>\n",
       "      <th>1</th>\n",
       "      <td>0.136989</td>\n",
       "      <td>0.134238</td>\n",
       "      <td>0.133138</td>\n",
       "      <td>0.137172</td>\n",
       "      <td>0.345865</td>\n",
       "      <td>0.112599</td>\n",
       "    </tr>\n",
       "    <tr>\n",
       "      <th>2</th>\n",
       "      <td>0.144906</td>\n",
       "      <td>0.133917</td>\n",
       "      <td>0.123673</td>\n",
       "      <td>0.137270</td>\n",
       "      <td>0.117340</td>\n",
       "      <td>0.342894</td>\n",
       "    </tr>\n",
       "    <tr>\n",
       "      <th>3</th>\n",
       "      <td>0.131569</td>\n",
       "      <td>0.127097</td>\n",
       "      <td>0.131010</td>\n",
       "      <td>0.123742</td>\n",
       "      <td>0.115729</td>\n",
       "      <td>0.370854</td>\n",
       "    </tr>\n",
       "    <tr>\n",
       "      <th>4</th>\n",
       "      <td>0.130089</td>\n",
       "      <td>0.121021</td>\n",
       "      <td>0.122687</td>\n",
       "      <td>0.110289</td>\n",
       "      <td>0.116210</td>\n",
       "      <td>0.399704</td>\n",
       "    </tr>\n",
       "    <tr>\n",
       "      <th>5</th>\n",
       "      <td>0.126771</td>\n",
       "      <td>0.124882</td>\n",
       "      <td>0.109957</td>\n",
       "      <td>0.115247</td>\n",
       "      <td>0.112979</td>\n",
       "      <td>0.410164</td>\n",
       "    </tr>\n",
       "    <tr>\n",
       "      <th>6</th>\n",
       "      <td>0.169460</td>\n",
       "      <td>0.109597</td>\n",
       "      <td>0.096334</td>\n",
       "      <td>0.098913</td>\n",
       "      <td>0.096887</td>\n",
       "      <td>0.428808</td>\n",
       "    </tr>\n",
       "    <tr>\n",
       "      <th>7</th>\n",
       "      <td>0.366402</td>\n",
       "      <td>0.146782</td>\n",
       "      <td>0.077079</td>\n",
       "      <td>0.075788</td>\n",
       "      <td>0.073944</td>\n",
       "      <td>0.260004</td>\n",
       "    </tr>\n",
       "    <tr>\n",
       "      <th>8</th>\n",
       "      <td>0.132212</td>\n",
       "      <td>0.354222</td>\n",
       "      <td>0.136989</td>\n",
       "      <td>0.063431</td>\n",
       "      <td>0.071456</td>\n",
       "      <td>0.241689</td>\n",
       "    </tr>\n",
       "    <tr>\n",
       "      <th>9</th>\n",
       "      <td>0.120524</td>\n",
       "      <td>0.115356</td>\n",
       "      <td>0.366556</td>\n",
       "      <td>0.114618</td>\n",
       "      <td>0.055925</td>\n",
       "      <td>0.227021</td>\n",
       "    </tr>\n",
       "    <tr>\n",
       "      <th>10</th>\n",
       "      <td>0.108543</td>\n",
       "      <td>0.108173</td>\n",
       "      <td>0.110392</td>\n",
       "      <td>0.346893</td>\n",
       "      <td>0.112796</td>\n",
       "      <td>0.213203</td>\n",
       "    </tr>\n",
       "    <tr>\n",
       "      <th>11</th>\n",
       "      <td>0.107918</td>\n",
       "      <td>0.103282</td>\n",
       "      <td>0.107732</td>\n",
       "      <td>0.348971</td>\n",
       "      <td>0.116818</td>\n",
       "      <td>0.215279</td>\n",
       "    </tr>\n",
       "    <tr>\n",
       "      <th>12</th>\n",
       "      <td>0.110782</td>\n",
       "      <td>0.112264</td>\n",
       "      <td>0.109114</td>\n",
       "      <td>0.342720</td>\n",
       "      <td>0.109114</td>\n",
       "      <td>0.216006</td>\n",
       "    </tr>\n",
       "    <tr>\n",
       "      <th>13</th>\n",
       "      <td>0.112712</td>\n",
       "      <td>0.114560</td>\n",
       "      <td>0.106615</td>\n",
       "      <td>0.333518</td>\n",
       "      <td>0.110495</td>\n",
       "      <td>0.222099</td>\n",
       "    </tr>\n",
       "  </tbody>\n",
       "</table>\n",
       "</div>"
      ],
      "text/plain": [
       "          17        18        19        20        21      Bust\n",
       "1   0.136989  0.134238  0.133138  0.137172  0.345865  0.112599\n",
       "2   0.144906  0.133917  0.123673  0.137270  0.117340  0.342894\n",
       "3   0.131569  0.127097  0.131010  0.123742  0.115729  0.370854\n",
       "4   0.130089  0.121021  0.122687  0.110289  0.116210  0.399704\n",
       "5   0.126771  0.124882  0.109957  0.115247  0.112979  0.410164\n",
       "6   0.169460  0.109597  0.096334  0.098913  0.096887  0.428808\n",
       "7   0.366402  0.146782  0.077079  0.075788  0.073944  0.260004\n",
       "8   0.132212  0.354222  0.136989  0.063431  0.071456  0.241689\n",
       "9   0.120524  0.115356  0.366556  0.114618  0.055925  0.227021\n",
       "10  0.108543  0.108173  0.110392  0.346893  0.112796  0.213203\n",
       "11  0.107918  0.103282  0.107732  0.348971  0.116818  0.215279\n",
       "12  0.110782  0.112264  0.109114  0.342720  0.109114  0.216006\n",
       "13  0.112712  0.114560  0.106615  0.333518  0.110495  0.222099"
      ]
     },
     "execution_count": 153,
     "metadata": {},
     "output_type": "execute_result"
    }
   ],
   "source": [
    "dfAdj = df.mul(1-df['Bust'],axis=0)\n",
    "dfAdj['Bust'] = bustRates\n",
    "dfAdj"
   ]
  },
  {
   "cell_type": "code",
   "execution_count": 151,
   "metadata": {
    "collapsed": false
   },
   "outputs": [
    {
     "data": {
      "text/plain": [
       "0.0169344"
      ]
     },
     "execution_count": 151,
     "metadata": {},
     "output_type": "execute_result"
    }
   ],
   "source": [
    "0.112*0.1512\n"
   ]
  },
  {
   "cell_type": "code",
   "execution_count": null,
   "metadata": {
    "collapsed": true
   },
   "outputs": [],
   "source": []
  }
 ],
 "metadata": {
  "kernelspec": {
   "display_name": "Python 3",
   "language": "python",
   "name": "python3"
  },
  "language_info": {
   "codemirror_mode": {
    "name": "ipython",
    "version": 3
   },
   "file_extension": ".py",
   "mimetype": "text/x-python",
   "name": "python",
   "nbconvert_exporter": "python",
   "pygments_lexer": "ipython3",
   "version": "3.5.1"
  }
 },
 "nbformat": 4,
 "nbformat_minor": 0
}
